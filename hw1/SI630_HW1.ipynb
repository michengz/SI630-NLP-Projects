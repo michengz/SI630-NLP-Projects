{
 "cells": [
  {
   "cell_type": "code",
   "execution_count": 74,
   "id": "1c3d0ca5",
   "metadata": {},
   "outputs": [],
   "source": [
    "import numpy as np\n",
    "import pandas as pd\n",
    "import re\n",
    "from collections import defaultdict, Counter\n",
    "from scipy.sparse import csr_matrix\n",
    "import scipy.sparse\n",
    "pd.set_option('display.max_colwidth', None)\n",
    "from tqdm.notebook import tqdm\n",
    "import time\n",
    "import math\n",
    "import matplotlib.pyplot as plt\n",
    "np.set_printoptions(edgeitems=10)"
   ]
  },
  {
   "cell_type": "markdown",
   "id": "e37784bf",
   "metadata": {},
   "source": [
    "## Part1 : Representing Text Data"
   ]
  },
  {
   "cell_type": "code",
   "execution_count": 75,
   "id": "719bcc28",
   "metadata": {},
   "outputs": [
    {
     "data": {
      "text/html": [
       "<div>\n",
       "<style scoped>\n",
       "    .dataframe tbody tr th:only-of-type {\n",
       "        vertical-align: middle;\n",
       "    }\n",
       "\n",
       "    .dataframe tbody tr th {\n",
       "        vertical-align: top;\n",
       "    }\n",
       "\n",
       "    .dataframe thead th {\n",
       "        text-align: right;\n",
       "    }\n",
       "</style>\n",
       "<table border=\"1\" class=\"dataframe\">\n",
       "  <thead>\n",
       "    <tr style=\"text-align: right;\">\n",
       "      <th></th>\n",
       "      <th>party_affiliation</th>\n",
       "      <th>email_text</th>\n",
       "      <th>uid_email</th>\n",
       "    </tr>\n",
       "  </thead>\n",
       "  <tbody>\n",
       "    <tr>\n",
       "      <th>0</th>\n",
       "      <td>Democratic Party</td>\n",
       "      <td>⋱⋱⋱⋱⋱⋱⋱⋱⋱⋱⋱⋱⋱⋱⋱⋱⋱⋱⋱⋱⋱⋱⋱⋱⋱⋱⋱⋱⋱⋱⋱⋱⋱⋱⋱⋱⋱⋱⋱⋱⋱⋱⋱⋱⋱⋱⋱⋱⋱⋱⋱⋱⋱⋱⋱⋱⋱⋱⋱⋱⋱⋱⋱⋱ \\n  Stop &lt;NORP&gt; is proudly dedicated to doing what we do best-- connecting with voters one on one to increase &lt;PARTY&gt; voter turnout. If you only want our most important email updates or to unsubscribe, click here. \\n  YES! YES! YES! \\n  FIRST: &lt;PERSON&gt; &lt;PERSON&gt; sliced through &lt;ORG&gt; &lt;ORG&gt; ’s &lt;ORG&gt; &lt;ORG&gt;. \\n  SO: We sounded the alarm… and you heard us. \\n  NOW! &lt;NORP&gt; EVERYWHERE ARE DONATING TO &lt;&gt; &lt;&gt; &lt;&gt;: \\n  500%-MATCH ACTIVE: $ 210,421 Raised to &lt;PERSON&gt; &lt;PERSON&gt; \\n  500%-Match: Donate to &lt;PERSON&gt; &lt;PERSON&gt; → \\n  It ’s HAPPENING: &lt;PERSON&gt; &lt;PERSON&gt; IS OVER! \\n  If we can fill our &lt;PERSON&gt; &lt;PERSON&gt; &lt;PERSON&gt;, he ’ll be DONE for… and the &lt;ORG&gt; is OURS! [ YES] \\n  But we still need $ 29,101 before MIDNIGHT. Can you chip in $ 5( worth $ 25 500%‑MATCHED)? \\n 500 % MATCH: $ 5 → \\n 500 % MATCH: $ 25 → \\n 500 % MATCH: $ 50 → \\n 500 % MATCH: $ 100 → \\n 500 % MATCH: $ 250 → \\n  Or donate another amount → \\n  THIS IS IT! \\n [[ URL &lt;&gt;]] \\n  This message was sent to: [[ EMAIL_REDACTED]] \\n  Click here to receive fewer emails. | Click here to unsubscribe. \\n  &lt;ORG&gt; &lt;ORG&gt;— &lt;GPE&gt; \\n &lt;&gt; &lt;&gt; &lt;&gt; \\n  &lt;PERSON&gt; &lt;PERSON&gt; has never been more vulnerable. His approval numbers are the worst in the country. \\n  It ’s critical that we defeat &lt;PERSON&gt; in 2020. Chip in now to beat &lt;&gt; and win a &lt;PARTY&gt; &lt;ORG&gt;: \\n 500 % MATCH: Donate Now → \\n PAID FOR BY &lt;&gt; &lt;&gt; &lt;&gt; \\n ([[ URL &lt;&gt;]]) AND NOT AUTHORIZED BY ANY &lt;ORG&gt; OR &lt;ORG&gt; 'S &lt;ORG&gt; \\n  This message was sent to: [[ EMAIL_REDACTED ]] | Change or update your email address by clicking here. \\n  Stop &lt;NORP&gt;, an accountability project of &lt;ORG&gt; &lt;ORG&gt; &lt;ORG&gt;, is a grassroots- funded effort dedicated to resisting the &lt;ORG&gt; &lt;ORG&gt; and &lt;PERSON&gt; &lt;PERSON&gt; 's radical right wing agenda. \\n  We believe that emails are a crucial way for our campaign to stay in touch with supporters like you. However, if you 'd prefer to receive fewer emails, you can click here. If you would like to unsubscribe, click here. \\n  Our movement is powered by supporters like you. Your grassroots support is critical to helping us defeat &lt;NORP&gt; across the country. If you 'd like to donate, please click here. Thanks for your support! \\n  Stop &lt;NORP&gt; \\n &lt;&gt; &lt;&gt; 618293 \\n</td>\n",
       "      <td>3083493a6b205eabd8d0f1e7772db09b</td>\n",
       "    </tr>\n",
       "  </tbody>\n",
       "</table>\n",
       "</div>"
      ],
      "text/plain": [
       "  party_affiliation  \\\n",
       "0  Democratic Party   \n",
       "\n",
       "                                                                                                                                                                                                                                                                                                                                                                                                                                                                                                                                                                                                                                                                                                                                                                                                                                                                                                                                                                                                                                                                                                                                                                                                                                                                                                                                                                                                                                                                                                                                                                                                                                                                                                                                                                                                                                                                                                                                                                                                                                                                                                                                                                                                                                                                                                                    email_text  \\\n",
       "0  ⋱⋱⋱⋱⋱⋱⋱⋱⋱⋱⋱⋱⋱⋱⋱⋱⋱⋱⋱⋱⋱⋱⋱⋱⋱⋱⋱⋱⋱⋱⋱⋱⋱⋱⋱⋱⋱⋱⋱⋱⋱⋱⋱⋱⋱⋱⋱⋱⋱⋱⋱⋱⋱⋱⋱⋱⋱⋱⋱⋱⋱⋱⋱⋱ \\n  Stop <NORP> is proudly dedicated to doing what we do best-- connecting with voters one on one to increase <PARTY> voter turnout. If you only want our most important email updates or to unsubscribe, click here. \\n  YES! YES! YES! \\n  FIRST: <PERSON> <PERSON> sliced through <ORG> <ORG> ’s <ORG> <ORG>. \\n  SO: We sounded the alarm… and you heard us. \\n  NOW! <NORP> EVERYWHERE ARE DONATING TO <> <> <>: \\n  500%-MATCH ACTIVE: $ 210,421 Raised to <PERSON> <PERSON> \\n  500%-Match: Donate to <PERSON> <PERSON> → \\n  It ’s HAPPENING: <PERSON> <PERSON> IS OVER! \\n  If we can fill our <PERSON> <PERSON> <PERSON>, he ’ll be DONE for… and the <ORG> is OURS! [ YES] \\n  But we still need $ 29,101 before MIDNIGHT. Can you chip in $ 5( worth $ 25 500%‑MATCHED)? \\n 500 % MATCH: $ 5 → \\n 500 % MATCH: $ 25 → \\n 500 % MATCH: $ 50 → \\n 500 % MATCH: $ 100 → \\n 500 % MATCH: $ 250 → \\n  Or donate another amount → \\n  THIS IS IT! \\n [[ URL <>]] \\n  This message was sent to: [[ EMAIL_REDACTED]] \\n  Click here to receive fewer emails. | Click here to unsubscribe. \\n  <ORG> <ORG>— <GPE> \\n <> <> <> \\n  <PERSON> <PERSON> has never been more vulnerable. His approval numbers are the worst in the country. \\n  It ’s critical that we defeat <PERSON> in 2020. Chip in now to beat <> and win a <PARTY> <ORG>: \\n 500 % MATCH: Donate Now → \\n PAID FOR BY <> <> <> \\n ([[ URL <>]]) AND NOT AUTHORIZED BY ANY <ORG> OR <ORG> 'S <ORG> \\n  This message was sent to: [[ EMAIL_REDACTED ]] | Change or update your email address by clicking here. \\n  Stop <NORP>, an accountability project of <ORG> <ORG> <ORG>, is a grassroots- funded effort dedicated to resisting the <ORG> <ORG> and <PERSON> <PERSON> 's radical right wing agenda. \\n  We believe that emails are a crucial way for our campaign to stay in touch with supporters like you. However, if you 'd prefer to receive fewer emails, you can click here. If you would like to unsubscribe, click here. \\n  Our movement is powered by supporters like you. Your grassroots support is critical to helping us defeat <NORP> across the country. If you 'd like to donate, please click here. Thanks for your support! \\n  Stop <NORP> \\n <> <> 618293 \\n   \n",
       "\n",
       "                          uid_email  \n",
       "0  3083493a6b205eabd8d0f1e7772db09b  "
      ]
     },
     "execution_count": 75,
     "metadata": {},
     "output_type": "execute_result"
    }
   ],
   "source": [
    "df = pd.read_csv('train.csv')\n",
    "df.head(1)"
   ]
  },
  {
   "cell_type": "markdown",
   "id": "b0bc73db",
   "metadata": {},
   "source": [
    "### Task 1.1 Tokenization"
   ]
  },
  {
   "cell_type": "code",
   "execution_count": 76,
   "id": "edfd4766",
   "metadata": {},
   "outputs": [],
   "source": [
    "def tokenize(text):\n",
    "    token_list = text.split()\n",
    "    return token_list\n",
    "\n",
    "def better_tokenize(text):\n",
    "    text = re.sub('(?<=[$])\\s+','',text) # remove spaces after dollar sign\n",
    "    text = re.sub('\\s+(?=%)','',text) # remove spaces before percentage sign\n",
    "    text = re.sub(\"'\",\"’\",text) # fix apostrophes\n",
    "    text = re.sub(\"\\s+(?=’)\",'',text) # remove spaces before apostrophe\n",
    "    token_list = re.split('\\s+|(?<!\\d)[,.]|[,.](?!\\d)|[-—‑–»:;#?!*…⋱^→➞↴|()&“”\"/\\[\\]\\\\\\]+|(?<!\\w)[>]|[<](?!\\w)|(?<!\\w)[_]|[_](?!\\w)',text)\n",
    "    token_list = list(filter(None, token_list))\n",
    "    return token_list"
   ]
  },
  {
   "cell_type": "code",
   "execution_count": 77,
   "id": "caffbbe3",
   "metadata": {},
   "outputs": [],
   "source": [
    "doc_list = df['email_text'].to_list()"
   ]
  },
  {
   "cell_type": "code",
   "execution_count": 5,
   "id": "81e3a7df",
   "metadata": {},
   "outputs": [],
   "source": [
    "token_dict = Counter() # Counting all words for all documents and putting into a dictionary\n",
    "for doc in doc_list:\n",
    "    token_dict.update(Counter(better_tokenize(doc.lower())))"
   ]
  },
  {
   "cell_type": "code",
   "execution_count": 6,
   "id": "530b3a71",
   "metadata": {},
   "outputs": [],
   "source": [
    "def remove_tokens(word_list):  \n",
    "    stop_words = ['to','the','and','you','for','in','a','of','our','we','this','these','into'\n",
    "                  'is','your','on','by','that','with','are','can','from','or','i','there'\n",
    "                  'us','have','be','so','do','does','doing','did','it','at','was','were','who'\n",
    "                  'what','how','has','had','an','as','my','about','it’s','any','i’m','that’s'\n",
    "                  'me','they','they’ll','them','because','how','am','can','too','very','many',\n",
    "                  'such','we’re','some','where','why','would','would’nt','does’nt','is’nt']\n",
    "    rare_words = [i for i,k in token_dict.items() if k < 10]\n",
    "    remove_words = stop_words + rare_words\n",
    "    final_tokens = [i for i in word_list if i not in remove_words]\n",
    "    return final_tokens"
   ]
  },
  {
   "cell_type": "code",
   "execution_count": 7,
   "id": "3789cd9a",
   "metadata": {},
   "outputs": [],
   "source": [
    "uniq_words = set() # A set of unique words for all documents\n",
    "for doc in doc_list:\n",
    "    uniq_words.update(better_tokenize(doc.lower()))\n",
    "final_tokens = remove_tokens(uniq_words)\n",
    "    \n",
    "words_index_dict = {}\n",
    "for i, word in list(enumerate(sorted(final_tokens))):\n",
    "    words_index_dict[word] = i"
   ]
  },
  {
   "cell_type": "markdown",
   "id": "688c203a",
   "metadata": {},
   "source": [
    "### Task 1.2 Building the Term-Document Matrix"
   ]
  },
  {
   "cell_type": "code",
   "execution_count": 262,
   "id": "976fb81d",
   "metadata": {},
   "outputs": [],
   "source": [
    "def construct_term_doc(docs):    \n",
    "    row, col, val = [], [], []\n",
    "    for index, text in tqdm(enumerate(docs)):\n",
    "        text = text.lower()\n",
    "        count_dict = Counter()\n",
    "        words_list = better_tokenize(text)\n",
    "        words_list = remove_tokens(words_list)\n",
    "        count_dict.update(Counter(words_list))\n",
    "        for word, count in count_dict.items():\n",
    "            try:\n",
    "                col.append(words_index_dict[word])\n",
    "            except:\n",
    "                continue\n",
    "            row.append(index)\n",
    "            val.append(count)\n",
    "\n",
    "    matrix = (csr_matrix((val, (row, col)),shape = (len(docs),len(words_index_dict)))).toarray()\n",
    "    matrix = np.append(matrix, np.ones((len(docs),1)), axis = 1)\n",
    "    return matrix"
   ]
  },
  {
   "cell_type": "code",
   "execution_count": null,
   "id": "6f201cf2",
   "metadata": {},
   "outputs": [],
   "source": [
    "X = construct_term_doc(doc_list)"
   ]
  },
  {
   "cell_type": "code",
   "execution_count": 30,
   "id": "79562798",
   "metadata": {},
   "outputs": [],
   "source": [
    "csr = csr_matrix(X)\n",
    "scipy.sparse.save_npz('sparse_matrix.npz', csr)"
   ]
  },
  {
   "cell_type": "code",
   "execution_count": 78,
   "id": "d8ff6c48",
   "metadata": {},
   "outputs": [],
   "source": [
    "X = scipy.sparse.load_npz('sparse_matrix.npz').toarray()"
   ]
  },
  {
   "cell_type": "code",
   "execution_count": 79,
   "id": "3b828648",
   "metadata": {},
   "outputs": [
    {
     "data": {
      "text/plain": [
       "array([0, 0, 0, 0, 0, 1, 0, 0, 0, 1, ..., 0, 0, 0, 0, 0, 0, 0, 1, 0, 0])"
      ]
     },
     "execution_count": 79,
     "metadata": {},
     "output_type": "execute_result"
    }
   ],
   "source": [
    "# Construct Y Matrix\n",
    "Y = df['party_affiliation'].map({'Democratic Party':0,'Republican Party':1}).to_numpy()\n",
    "Y"
   ]
  },
  {
   "cell_type": "code",
   "execution_count": null,
   "id": "aa0a00eb",
   "metadata": {},
   "outputs": [],
   "source": []
  },
  {
   "cell_type": "markdown",
   "id": "6dd7092f",
   "metadata": {},
   "source": [
    "## Part 2: Logistic Regression in numpy"
   ]
  },
  {
   "cell_type": "code",
   "execution_count": 80,
   "id": "51acb276",
   "metadata": {},
   "outputs": [],
   "source": [
    "def sigmoid(x,β):\n",
    "    p = 1/(1 + np.exp(-(np.dot(x,β))))\n",
    "    return p"
   ]
  },
  {
   "cell_type": "code",
   "execution_count": 81,
   "id": "5cf8480b",
   "metadata": {},
   "outputs": [],
   "source": [
    "def log_likelihood(X,Y,β,num_step):\n",
    "    ll = 0\n",
    "    for i in range(num_step):\n",
    "        ll += Y[i,] * np.dot(β,X[i,:]) - np.log(1+np.exp(np.dot(β,X[i,:])))\n",
    "    return ll"
   ]
  },
  {
   "cell_type": "code",
   "execution_count": 122,
   "id": "271dfc4d",
   "metadata": {},
   "outputs": [],
   "source": [
    "def compute_gradient(X,Y,α,num_step):\n",
    "    β = np.zeros(X.shape[1])\n",
    "    ll_history = []\n",
    "    for i in tqdm(range(num_step)):\n",
    "        β += (α * (Y[i,] - sigmoid(X[i,:],β)) * X[i,:])\n",
    "        ll = log_likelihood(X,Y,β, num_step)\n",
    "        ll_history.append(ll)\n",
    "\n",
    "    plt.scatter(np.arange(num_step),ll_history)      \n",
    "    plt.show()"
   ]
  },
  {
   "cell_type": "code",
   "execution_count": 83,
   "id": "12773efd",
   "metadata": {},
   "outputs": [],
   "source": [
    "def logistic_regression(X,Y,α,num_step):\n",
    "    \n",
    "    β = np.zeros(X.shape[1])\n",
    "    for i in tqdm(range(num_step)):\n",
    "        β += (α * (Y[i,] - sigmoid(X[i,:],β)) * X[i,:])\n",
    "        \n",
    "    return β"
   ]
  },
  {
   "cell_type": "code",
   "execution_count": 123,
   "id": "0f9d3b82",
   "metadata": {},
   "outputs": [
    {
     "data": {
      "application/vnd.jupyter.widget-view+json": {
       "model_id": "c2e4388ababa448fa08eeb29c4c2a242",
       "version_major": 2,
       "version_minor": 0
      },
      "text/plain": [
       "  0%|          | 0/1000 [00:00<?, ?it/s]"
      ]
     },
     "metadata": {},
     "output_type": "display_data"
    },
    {
     "data": {
      "image/png": "[encoded data removed]",
      "text/plain": [
       "<Figure size 432x288 with 1 Axes>"
      ]
     },
     "metadata": {
      "needs_background": "light"
     },
     "output_type": "display_data"
    }
   ],
   "source": [
    "compute_gradient(X,Y,α = 0.00005,num_step = 1000)"
   ]
  },
  {
   "cell_type": "code",
   "execution_count": 124,
   "id": "0ea55e2f",
   "metadata": {
    "scrolled": true
   },
   "outputs": [
    {
     "data": {
      "application/vnd.jupyter.widget-view+json": {
       "model_id": "20b3a89bec8f494ca64a091326d923a0",
       "version_major": 2,
       "version_minor": 0
      },
      "text/plain": [
       "  0%|          | 0/1000 [00:00<?, ?it/s]"
      ]
     },
     "metadata": {},
     "output_type": "display_data"
    },
    {
     "data": {
      "image/png": "[encoded data removed]",
      "text/plain": [
       "<Figure size 432x288 with 1 Axes>"
      ]
     },
     "metadata": {
      "needs_background": "light"
     },
     "output_type": "display_data"
    }
   ],
   "source": [
    "compute_gradient(X,Y,α = 0.005,num_step = 1000)"
   ]
  },
  {
   "cell_type": "code",
   "execution_count": 723,
   "id": "ecc5c67d",
   "metadata": {},
   "outputs": [
    {
     "data": {
      "application/vnd.jupyter.widget-view+json": {
       "model_id": "f4a83acd651b47fda6668f7e61a3417e",
       "version_major": 2,
       "version_minor": 0
      },
      "text/plain": [
       "  0%|          | 0/10000 [00:00<?, ?it/s]"
      ]
     },
     "metadata": {},
     "output_type": "display_data"
    },
    {
     "data": {
      "image/png": "[encoded data removed]",
      "text/plain": [
       "<Figure size 432x288 with 1 Axes>"
      ]
     },
     "metadata": {
      "needs_background": "light"
     },
     "output_type": "display_data"
    }
   ],
   "source": [
    "compute_gradient(X,Y,α = 0.005,num_step = 10000)"
   ]
  },
  {
   "cell_type": "code",
   "execution_count": 125,
   "id": "74ea0206",
   "metadata": {},
   "outputs": [
    {
     "data": {
      "application/vnd.jupyter.widget-view+json": {
       "model_id": "df9903212c0a4aec887df412523dfbd1",
       "version_major": 2,
       "version_minor": 0
      },
      "text/plain": [
       "  0%|          | 0/10000 [00:00<?, ?it/s]"
      ]
     },
     "metadata": {},
     "output_type": "display_data"
    },
    {
     "data": {
      "image/png": "[encoded data removed]",
      "text/plain": [
       "<Figure size 432x288 with 1 Axes>"
      ]
     },
     "metadata": {
      "needs_background": "light"
     },
     "output_type": "display_data"
    }
   ],
   "source": [
    "compute_gradient(X,Y,α = 0.00005,num_step = 10000)"
   ]
  },
  {
   "cell_type": "code",
   "execution_count": 127,
   "id": "35e098e1",
   "metadata": {},
   "outputs": [
    {
     "data": {
      "application/vnd.jupyter.widget-view+json": {
       "model_id": "c651dce179654df1903280a524c1f06e",
       "version_major": 2,
       "version_minor": 0
      },
      "text/plain": [
       "  0%|          | 0/10000 [00:00<?, ?it/s]"
      ]
     },
     "metadata": {},
     "output_type": "display_data"
    }
   ],
   "source": [
    "β = logistic_regression(X,Y,0.005,10000)"
   ]
  },
  {
   "cell_type": "code",
   "execution_count": 128,
   "id": "80d03bc1",
   "metadata": {},
   "outputs": [
    {
     "data": {
      "text/plain": [
       "-7610.25891479531"
      ]
     },
     "execution_count": 128,
     "metadata": {},
     "output_type": "execute_result"
    }
   ],
   "source": [
    "ll = log_likelihood(X,Y,β,59999)\n",
    "ll"
   ]
  },
  {
   "cell_type": "code",
   "execution_count": 11,
   "id": "bcce3649",
   "metadata": {},
   "outputs": [],
   "source": [
    "def predict(filename):\n",
    "    df_test = pd.read_csv(filename)\n",
    "    test_doc_list = df_test['email_text'].to_list()\n",
    "    matrix = construct_term_doc(test_doc_list)\n",
    "    result_list = []\n",
    "    for i in range(len(test_doc_list)):\n",
    "        yhat = sigmoid(matrix[i,:],β)\n",
    "        if yhat >= 0.5:\n",
    "            result_list.append(1)\n",
    "        else:\n",
    "            result_list.append(0)\n",
    "    return result_list"
   ]
  },
  {
   "cell_type": "markdown",
   "id": "a3d3e25d",
   "metadata": {},
   "source": [
    "#### Prediction on Test Data"
   ]
  },
  {
   "cell_type": "code",
   "execution_count": 735,
   "id": "d0be4e9f",
   "metadata": {},
   "outputs": [],
   "source": [
    "test_data = pd.read_csv('test.csv')\n",
    "predicted_df = pd.DataFrame({'uid_email':test_data['uid_email']})"
   ]
  },
  {
   "cell_type": "code",
   "execution_count": null,
   "id": "7efef573",
   "metadata": {},
   "outputs": [],
   "source": [
    "predicted_df['party_affiliation'] = predict('test.csv')\n",
    "predicted_df['party_affiliation'] = predicted_df['party_affiliation'].map({0:'Democratic Party',1:'Republican Party'})\n",
    "predicted_df"
   ]
  },
  {
   "cell_type": "code",
   "execution_count": null,
   "id": "fa49b023",
   "metadata": {},
   "outputs": [],
   "source": [
    "predicted_df.to_csv('submission9.csv', index=False)"
   ]
  },
  {
   "cell_type": "markdown",
   "id": "964723a7",
   "metadata": {},
   "source": [
    "#### Prediction on Validation Dataset"
   ]
  },
  {
   "cell_type": "code",
   "execution_count": 758,
   "id": "c783106b",
   "metadata": {},
   "outputs": [
    {
     "data": {
      "application/vnd.jupyter.widget-view+json": {
       "model_id": "d8b88c1a40f74e1b85f3de412ef40fd3",
       "version_major": 2,
       "version_minor": 0
      },
      "text/plain": [
       "0it [00:00, ?it/s]"
      ]
     },
     "metadata": {},
     "output_type": "display_data"
    }
   ],
   "source": [
    "result = predict('dev.csv')\n",
    "prediction_arr = np.array(result)"
   ]
  },
  {
   "cell_type": "code",
   "execution_count": 95,
   "id": "5e12f010",
   "metadata": {},
   "outputs": [
    {
     "data": {
      "text/plain": [
       "array([0, 0, 0, 0, 0, 0, 0, 0, 0, 0, ..., 1, 0, 0, 1, 0, 1, 0, 0, 0, 0])"
      ]
     },
     "execution_count": 95,
     "metadata": {},
     "output_type": "execute_result"
    }
   ],
   "source": [
    "data = pd.read_csv('dev.csv')\n",
    "actual_arr = data['party_affiliation'].map({'Democratic Party':0,'Republican Party':1}).to_numpy()\n",
    "actual_arr"
   ]
  },
  {
   "cell_type": "code",
   "execution_count": 20,
   "id": "43d13a8d",
   "metadata": {},
   "outputs": [],
   "source": [
    "def f1_score(actual, prediction):\n",
    "    \n",
    "    tp = np.sum((actual == 1) & (prediction == 1))\n",
    "    fp = np.sum((actual != 1) & (prediction == 1))\n",
    "    fn = np.sum((prediction != 1) & (actual == 1))\n",
    "    \n",
    "    precision = tp / (tp + fp)\n",
    "    recall = tp / (tp + fn)\n",
    "    f1 = 2 * (precision * recall) / (precision + recall)\n",
    "    \n",
    "    return f1"
   ]
  },
  {
   "cell_type": "code",
   "execution_count": 763,
   "id": "c860390d",
   "metadata": {},
   "outputs": [
    {
     "data": {
      "text/plain": [
       "0.8640586157268089"
      ]
     },
     "execution_count": 763,
     "metadata": {},
     "output_type": "execute_result"
    }
   ],
   "source": [
    "f1_score(actual_arr, prediction_arr)"
   ]
  },
  {
   "cell_type": "markdown",
   "id": "faf2985b",
   "metadata": {},
   "source": [
    "## Part 3: Logistic Regression with PyTorch"
   ]
  },
  {
   "cell_type": "code",
   "execution_count": 84,
   "id": "bbf2a373",
   "metadata": {},
   "outputs": [],
   "source": [
    "import torch\n",
    "import torch.nn as nn\n",
    "import torch.optim as optim\n",
    "import random"
   ]
  },
  {
   "cell_type": "markdown",
   "id": "c89a954e",
   "metadata": {},
   "source": [
    "#### Setting up the Data"
   ]
  },
  {
   "cell_type": "code",
   "execution_count": 85,
   "id": "b42829bd",
   "metadata": {},
   "outputs": [],
   "source": [
    "def to_sparse_tensor(sparse_numpy):\n",
    "    sparse_tensor = torch.from_numpy(sparse_numpy.astype(np.float32)).to_sparse()\n",
    "    return sparse_tensor"
   ]
  },
  {
   "cell_type": "code",
   "execution_count": 86,
   "id": "252b0e5d",
   "metadata": {},
   "outputs": [],
   "source": [
    "# Term Document Sparse Tensor\n",
    "tensor_X = to_sparse_tensor(X).to_dense()"
   ]
  },
  {
   "cell_type": "code",
   "execution_count": 87,
   "id": "691d6382",
   "metadata": {},
   "outputs": [],
   "source": [
    "tensor_Y = torch.from_numpy(Y.astype(np.float32)).reshape(59999,1) "
   ]
  },
  {
   "cell_type": "code",
   "execution_count": 263,
   "id": "8fcca207",
   "metadata": {},
   "outputs": [
    {
     "data": {
      "application/vnd.jupyter.widget-view+json": {
       "model_id": "e118d2d22b2b4467be60b79ba491ccea",
       "version_major": 2,
       "version_minor": 0
      },
      "text/plain": [
       "0it [00:00, ?it/s]"
      ]
     },
     "metadata": {},
     "output_type": "display_data"
    },
    {
     "data": {
      "text/plain": [
       "array([[0., 0., 0., 0., 0., 0., 0., 0., 0., 0., ..., 0., 0., 0., 0., 0.,\n",
       "        0., 0., 0., 0., 1.],\n",
       "       [0., 0., 0., 0., 0., 0., 0., 0., 0., 0., ..., 0., 0., 0., 0., 0.,\n",
       "        0., 0., 0., 0., 1.],\n",
       "       [0., 0., 0., 0., 0., 0., 0., 0., 0., 0., ..., 0., 0., 0., 0., 0.,\n",
       "        0., 0., 0., 0., 1.],\n",
       "       [0., 0., 0., 0., 0., 0., 0., 0., 0., 0., ..., 0., 0., 0., 0., 0.,\n",
       "        0., 0., 0., 0., 1.],\n",
       "       [0., 0., 0., 0., 0., 0., 0., 0., 0., 0., ..., 0., 0., 0., 0., 0.,\n",
       "        0., 0., 0., 0., 1.],\n",
       "       [0., 0., 0., 0., 0., 0., 0., 0., 0., 0., ..., 0., 0., 0., 0., 0.,\n",
       "        0., 0., 0., 0., 1.],\n",
       "       [0., 0., 0., 0., 0., 0., 0., 0., 0., 0., ..., 0., 0., 0., 0., 0.,\n",
       "        0., 0., 0., 0., 1.],\n",
       "       [0., 0., 0., 0., 0., 0., 0., 0., 0., 0., ..., 0., 0., 0., 0., 0.,\n",
       "        0., 0., 0., 0., 1.],\n",
       "       [0., 0., 0., 0., 0., 0., 0., 0., 0., 0., ..., 0., 0., 0., 0., 0.,\n",
       "        0., 0., 0., 0., 1.],\n",
       "       [0., 0., 0., 0., 0., 0., 0., 0., 0., 0., ..., 0., 0., 0., 0., 0.,\n",
       "        0., 0., 0., 0., 1.],\n",
       "       ...,\n",
       "       [0., 0., 0., 0., 0., 0., 0., 0., 0., 0., ..., 0., 0., 0., 0., 0.,\n",
       "        0., 0., 0., 0., 1.],\n",
       "       [0., 0., 0., 0., 0., 0., 0., 0., 0., 0., ..., 0., 0., 0., 0., 0.,\n",
       "        0., 0., 0., 0., 1.],\n",
       "       [0., 0., 0., 0., 0., 0., 0., 0., 0., 0., ..., 0., 0., 0., 0., 0.,\n",
       "        0., 0., 0., 0., 1.],\n",
       "       [0., 0., 0., 0., 0., 0., 0., 0., 0., 0., ..., 0., 0., 0., 0., 0.,\n",
       "        0., 0., 0., 0., 1.],\n",
       "       [0., 0., 0., 0., 0., 0., 0., 0., 0., 0., ..., 0., 0., 0., 0., 0.,\n",
       "        0., 0., 0., 0., 1.],\n",
       "       [0., 0., 0., 0., 0., 0., 0., 0., 0., 0., ..., 0., 0., 0., 0., 0.,\n",
       "        0., 0., 0., 0., 1.],\n",
       "       [0., 0., 0., 0., 0., 0., 0., 0., 0., 0., ..., 0., 0., 0., 0., 0.,\n",
       "        0., 0., 0., 0., 1.],\n",
       "       [0., 0., 0., 0., 0., 0., 0., 0., 0., 0., ..., 0., 0., 0., 0., 0.,\n",
       "        0., 0., 0., 0., 1.],\n",
       "       [0., 0., 0., 0., 0., 0., 0., 0., 0., 0., ..., 0., 0., 0., 0., 0.,\n",
       "        0., 0., 0., 0., 1.],\n",
       "       [0., 0., 0., 0., 0., 0., 0., 0., 0., 0., ..., 0., 0., 0., 0., 0.,\n",
       "        0., 0., 0., 0., 1.]])"
      ]
     },
     "execution_count": 263,
     "metadata": {},
     "output_type": "execute_result"
    }
   ],
   "source": [
    "dev = pd.read_csv('dev.csv')\n",
    "dev_doc_list = dev['email_text'].to_list()\n",
    "dev_matrix = construct_term_doc(dev_doc_list)"
   ]
  },
  {
   "cell_type": "code",
   "execution_count": 267,
   "id": "fc68ed17",
   "metadata": {},
   "outputs": [],
   "source": [
    "dev_csr = csr_matrix(dev_matrix)\n",
    "scipy.sparse.save_npz('dev_sparse_matrix.npz', dev_csr)"
   ]
  },
  {
   "cell_type": "code",
   "execution_count": 88,
   "id": "cb565281",
   "metadata": {},
   "outputs": [],
   "source": [
    "X_test = scipy.sparse.load_npz('dev_sparse_matrix.npz').toarray()"
   ]
  },
  {
   "cell_type": "code",
   "execution_count": 89,
   "id": "7b93ede3",
   "metadata": {},
   "outputs": [
    {
     "data": {
      "text/plain": [
       "tensor([[0., 0., 0.,  ..., 0., 0., 1.],\n",
       "        [0., 0., 0.,  ..., 0., 0., 1.],\n",
       "        [0., 0., 0.,  ..., 0., 0., 1.],\n",
       "        ...,\n",
       "        [0., 0., 0.,  ..., 0., 0., 1.],\n",
       "        [0., 0., 0.,  ..., 0., 0., 1.],\n",
       "        [0., 0., 0.,  ..., 0., 0., 1.]])"
      ]
     },
     "execution_count": 89,
     "metadata": {},
     "output_type": "execute_result"
    }
   ],
   "source": [
    "X_test = to_sparse_tensor(X_test).to_dense()\n",
    "X_test"
   ]
  },
  {
   "cell_type": "code",
   "execution_count": 97,
   "id": "7ffb1d36",
   "metadata": {},
   "outputs": [],
   "source": [
    "#Y_test = torch.from_numpy(actual_arr.astype(np.float32)).reshape(1,20000)"
   ]
  },
  {
   "cell_type": "markdown",
   "id": "ed8b2b6c",
   "metadata": {},
   "source": [
    "#### Building the Logistic Regression Neural Network"
   ]
  },
  {
   "cell_type": "code",
   "execution_count": 90,
   "id": "5d52bf7b",
   "metadata": {},
   "outputs": [],
   "source": [
    "class LogisticRegression(nn.Module):\n",
    "    \n",
    "    def __init__(self):\n",
    "        super(LogisticRegression, self).__init__()\n",
    "        #self.x_layer = torch.nn.Linear(tensor_X.shape[1], tensor_X.shape[1])\n",
    "        #self.y_layer = torch.nn.Linear(tensor_X.shape[1],tensor_X.shape[0])\n",
    "        self.linear = torch.nn.Linear(tensor_X.shape[1], 1)\n",
    "            \n",
    "    def forward(self, inputs):\n",
    "        output = torch.sigmoid(self.linear(inputs))\n",
    "        return output"
   ]
  },
  {
   "cell_type": "markdown",
   "id": "7de3bac8",
   "metadata": {},
   "source": [
    "#### Setting up the Training"
   ]
  },
  {
   "cell_type": "code",
   "execution_count": 91,
   "id": "0585074a",
   "metadata": {},
   "outputs": [],
   "source": [
    "model = LogisticRegression()\n",
    "criterion = nn.BCELoss()\n",
    "optimizer = optim.SGD(model.parameters(), lr = 0.001)"
   ]
  },
  {
   "cell_type": "code",
   "execution_count": 96,
   "id": "675c428e",
   "metadata": {},
   "outputs": [
    {
     "data": {
      "application/vnd.jupyter.widget-view+json": {
       "model_id": "4763c1758ad049b3b60a4e4b73bc2a67",
       "version_major": 2,
       "version_minor": 0
      },
      "text/plain": [
       "  0%|          | 0/5 [00:00<?, ?it/s]"
      ]
     },
     "metadata": {},
     "output_type": "display_data"
    },
    {
     "name": "stdout",
     "output_type": "stream",
     "text": [
      "[1, 1000] loss: 306.76850\n",
      "          f1 score: 0.599195710455764\n",
      "[1, 2000] loss: 335.27551\n",
      "          f1 score: 0.7561904761904763\n",
      "[1, 3000] loss: 261.15293\n",
      "          f1 score: 0.7513150204558738\n",
      "[1, 4000] loss: 228.00477\n",
      "          f1 score: 0.6940154440154439\n",
      "[1, 5000] loss: 212.73296\n",
      "          f1 score: 0.7405247813411078\n",
      "[2, 2000] loss: 211.42487\n",
      "          f1 score: 0.8147665014349074\n",
      "[2, 4000] loss: 221.93898\n",
      "          f1 score: 0.8134945894334819\n",
      "[2, 6000] loss: 200.52911\n",
      "          f1 score: 0.8161348252521066\n",
      "[2, 8000] loss: 187.66145\n",
      "          f1 score: 0.8065301446369755\n",
      "[2, 10000] loss: 203.18120\n",
      "          f1 score: 0.822179203539823\n",
      "[3, 3000] loss: 171.24570\n",
      "          f1 score: 0.8320538720538722\n",
      "[3, 6000] loss: 191.94405\n",
      "          f1 score: 0.8191609977324262\n",
      "[3, 9000] loss: 161.31903\n",
      "          f1 score: 0.8279747183292112\n",
      "[3, 12000] loss: 176.63489\n",
      "          f1 score: 0.8376907763769077\n",
      "[3, 15000] loss: 172.68644\n",
      "          f1 score: 0.8370350548568372\n",
      "[4, 4000] loss: 183.58542\n",
      "          f1 score: 0.8420648136287946\n",
      "[4, 8000] loss: 171.25145\n",
      "          f1 score: 0.8396869477404697\n",
      "[4, 12000] loss: 155.67640\n",
      "          f1 score: 0.8317307692307692\n",
      "[4, 16000] loss: 185.42788\n",
      "          f1 score: 0.8440391578382728\n",
      "[4, 20000] loss: 160.53654\n",
      "          f1 score: 0.8406946533570354\n",
      "[5, 5000] loss: 151.56550\n",
      "          f1 score: 0.841095890410959\n",
      "[5, 10000] loss: 151.70465\n",
      "          f1 score: 0.85078125\n",
      "[5, 15000] loss: 159.63265\n",
      "          f1 score: 0.8532121998702141\n",
      "[5, 20000] loss: 146.27034\n",
      "          f1 score: 0.8523990064060661\n",
      "[5, 25000] loss: 166.32528\n",
      "          f1 score: 0.8383150284999306\n"
     ]
    },
    {
     "data": {
      "image/png": "[encoded data removed]",
      "text/plain": [
       "<Figure size 648x216 with 2 Axes>"
      ]
     },
     "metadata": {
      "needs_background": "light"
     },
     "output_type": "display_data"
    }
   ],
   "source": [
    "loss_history = []\n",
    "f1_history = []\n",
    "running_loss = 0.0 \n",
    "epochs = range(5)\n",
    "\n",
    "for epoch in tqdm(epochs):\n",
    "\n",
    "    for i in range(5000):\n",
    "        index = random.randint(0,tensor_X.shape[0] - 1)\n",
    "        X_train = tensor_X[index,:]\n",
    "        Y_train = tensor_Y[index,0].unsqueeze(0)\n",
    "\n",
    "        optimizer.zero_grad()\n",
    "        outputs = model(X_train)\n",
    "        loss = criterion(outputs, Y_train)\n",
    "        loss.backward()\n",
    "        optimizer.step()\n",
    "\n",
    "        running_loss += loss.item()\n",
    "        if i % 1000 == 999:\n",
    "            loss_history.append(running_loss)\n",
    "            print(f'[{epoch + 1}, {(epoch + 1)*(i+1)}] loss: {running_loss:.5f}')\n",
    "            running_loss = 0.0 \n",
    "\n",
    "            model.eval()\n",
    "            with torch.no_grad():\n",
    "                Y_pred = model(X_test)\n",
    "                f1 = f1_score(actual_arr, Y_pred.round().detach().numpy().reshape(20000,))\n",
    "                print(f'          f1 score: {f1}')\n",
    "                f1_history.append(f1)\n",
    "            model.train()\n",
    "\n",
    "torch.save(model.state_dict(), 'model')\n",
    "\n",
    "plt.subplots(figsize=(9, 3))\n",
    "    \n",
    "plt.subplot(1, 2, 1)\n",
    "plt.plot(range(len(loss_history)),loss_history)\n",
    "plt.xlabel('Iteration') \n",
    "plt.ylabel('Loss') \n",
    "    \n",
    "plt.subplot(1, 2, 2)\n",
    "plt.plot(range(len(f1_history)),f1_history)\n",
    "plt.xlabel('Iteration') \n",
    "plt.ylabel('F1 Score') \n",
    "plt.show()"
   ]
  },
  {
   "cell_type": "code",
   "execution_count": 422,
   "id": "4813c39d",
   "metadata": {},
   "outputs": [
    {
     "data": {
      "application/vnd.jupyter.widget-view+json": {
       "model_id": "4a76adbd4f7140a1b6b3e981168ff9f0",
       "version_major": 2,
       "version_minor": 0
      },
      "text/plain": [
       "0it [00:00, ?it/s]"
      ]
     },
     "metadata": {},
     "output_type": "display_data"
    }
   ],
   "source": [
    "test = pd.read_csv('test.csv')\n",
    "test_doc_list = test['email_text'].to_list()\n",
    "test_matrix = construct_term_doc(test_doc_list)"
   ]
  },
  {
   "cell_type": "code",
   "execution_count": 423,
   "id": "cb679772",
   "metadata": {},
   "outputs": [],
   "source": [
    "test_csr = csr_matrix(test_matrix)\n",
    "scipy.sparse.save_npz('test_sparse_matrix.npz', test_csr)"
   ]
  },
  {
   "cell_type": "code",
   "execution_count": 424,
   "id": "e332a0f4",
   "metadata": {},
   "outputs": [],
   "source": [
    "test_X = scipy.sparse.load_npz('test_sparse_matrix.npz').toarray()"
   ]
  },
  {
   "cell_type": "code",
   "execution_count": 425,
   "id": "b6cc90b0",
   "metadata": {},
   "outputs": [
    {
     "data": {
      "text/plain": [
       "tensor([[0., 0., 0.,  ..., 0., 0., 1.],\n",
       "        [0., 0., 0.,  ..., 0., 0., 1.],\n",
       "        [0., 0., 0.,  ..., 0., 0., 1.],\n",
       "        ...,\n",
       "        [0., 0., 0.,  ..., 0., 0., 1.],\n",
       "        [0., 0., 0.,  ..., 0., 0., 1.],\n",
       "        [0., 0., 0.,  ..., 0., 0., 1.]])"
      ]
     },
     "execution_count": 425,
     "metadata": {},
     "output_type": "execute_result"
    }
   ],
   "source": [
    "test_X = to_sparse_tensor(test_X).to_dense()\n",
    "test_X"
   ]
  },
  {
   "cell_type": "code",
   "execution_count": 426,
   "id": "8aada069",
   "metadata": {},
   "outputs": [
    {
     "data": {
      "text/plain": [
       "LogisticRegression(\n",
       "  (linear): Linear(in_features=14432, out_features=1, bias=True)\n",
       ")"
      ]
     },
     "execution_count": 426,
     "metadata": {},
     "output_type": "execute_result"
    }
   ],
   "source": [
    "final_model = LogisticRegression()\n",
    "final_model.load_state_dict(torch.load('model'))\n",
    "final_model.eval()"
   ]
  },
  {
   "cell_type": "code",
   "execution_count": 427,
   "id": "1d66f231",
   "metadata": {},
   "outputs": [
    {
     "data": {
      "text/plain": [
       "array([0., 0., 1., 0., 0., 0., 1., 0., 1., 0., ..., 0., 0., 0., 0., 1.,\n",
       "       1., 0., 1., 0., 0.], dtype=float32)"
      ]
     },
     "execution_count": 427,
     "metadata": {},
     "output_type": "execute_result"
    }
   ],
   "source": [
    "with torch.no_grad():\n",
    "    output = final_model(test_X)\n",
    "    prediction = output.round().detach().numpy().reshape(20000,)\n",
    "prediction"
   ]
  },
  {
   "cell_type": "code",
   "execution_count": 429,
   "id": "35ccb1ed",
   "metadata": {},
   "outputs": [],
   "source": [
    "test_data = pd.read_csv('test.csv')\n",
    "p3_df = pd.DataFrame({'uid_email':test_data['uid_email']})"
   ]
  },
  {
   "cell_type": "code",
   "execution_count": 430,
   "id": "1079dae3",
   "metadata": {},
   "outputs": [
    {
     "data": {
      "text/html": [
       "<div>\n",
       "<style scoped>\n",
       "    .dataframe tbody tr th:only-of-type {\n",
       "        vertical-align: middle;\n",
       "    }\n",
       "\n",
       "    .dataframe tbody tr th {\n",
       "        vertical-align: top;\n",
       "    }\n",
       "\n",
       "    .dataframe thead th {\n",
       "        text-align: right;\n",
       "    }\n",
       "</style>\n",
       "<table border=\"1\" class=\"dataframe\">\n",
       "  <thead>\n",
       "    <tr style=\"text-align: right;\">\n",
       "      <th></th>\n",
       "      <th>uid_email</th>\n",
       "      <th>party_affiliation</th>\n",
       "    </tr>\n",
       "  </thead>\n",
       "  <tbody>\n",
       "    <tr>\n",
       "      <th>0</th>\n",
       "      <td>5dfbe09ce5b500dd3dcb9f93c8fb185f</td>\n",
       "      <td>Democratic Party</td>\n",
       "    </tr>\n",
       "    <tr>\n",
       "      <th>1</th>\n",
       "      <td>07e48f4183b98420a18503791fb412f6</td>\n",
       "      <td>Democratic Party</td>\n",
       "    </tr>\n",
       "    <tr>\n",
       "      <th>2</th>\n",
       "      <td>b58c8607d96a414db0e9cc10108c35f5</td>\n",
       "      <td>Republican Party</td>\n",
       "    </tr>\n",
       "    <tr>\n",
       "      <th>3</th>\n",
       "      <td>3901d9539d69ada89e5c82e2f1ca950d</td>\n",
       "      <td>Democratic Party</td>\n",
       "    </tr>\n",
       "    <tr>\n",
       "      <th>4</th>\n",
       "      <td>6a3e8e6f31381e84a34571deee0f1238</td>\n",
       "      <td>Democratic Party</td>\n",
       "    </tr>\n",
       "    <tr>\n",
       "      <th>...</th>\n",
       "      <td>...</td>\n",
       "      <td>...</td>\n",
       "    </tr>\n",
       "    <tr>\n",
       "      <th>19995</th>\n",
       "      <td>9b11afd6a84d3806034d9080f4e9752a</td>\n",
       "      <td>Republican Party</td>\n",
       "    </tr>\n",
       "    <tr>\n",
       "      <th>19996</th>\n",
       "      <td>888cacc2d660bf040f04ef1caf6ce844</td>\n",
       "      <td>Democratic Party</td>\n",
       "    </tr>\n",
       "    <tr>\n",
       "      <th>19997</th>\n",
       "      <td>712dc83f7a455870373c7a9eb30445d7</td>\n",
       "      <td>Republican Party</td>\n",
       "    </tr>\n",
       "    <tr>\n",
       "      <th>19998</th>\n",
       "      <td>0bf3265244c2c06fff084c5a79a6387c</td>\n",
       "      <td>Democratic Party</td>\n",
       "    </tr>\n",
       "    <tr>\n",
       "      <th>19999</th>\n",
       "      <td>9b1f0f8d8a5da9840901f214ff59add7</td>\n",
       "      <td>Democratic Party</td>\n",
       "    </tr>\n",
       "  </tbody>\n",
       "</table>\n",
       "<p>20000 rows × 2 columns</p>\n",
       "</div>"
      ],
      "text/plain": [
       "                              uid_email party_affiliation\n",
       "0      5dfbe09ce5b500dd3dcb9f93c8fb185f  Democratic Party\n",
       "1      07e48f4183b98420a18503791fb412f6  Democratic Party\n",
       "2      b58c8607d96a414db0e9cc10108c35f5  Republican Party\n",
       "3      3901d9539d69ada89e5c82e2f1ca950d  Democratic Party\n",
       "4      6a3e8e6f31381e84a34571deee0f1238  Democratic Party\n",
       "...                                 ...               ...\n",
       "19995  9b11afd6a84d3806034d9080f4e9752a  Republican Party\n",
       "19996  888cacc2d660bf040f04ef1caf6ce844  Democratic Party\n",
       "19997  712dc83f7a455870373c7a9eb30445d7  Republican Party\n",
       "19998  0bf3265244c2c06fff084c5a79a6387c  Democratic Party\n",
       "19999  9b1f0f8d8a5da9840901f214ff59add7  Democratic Party\n",
       "\n",
       "[20000 rows x 2 columns]"
      ]
     },
     "execution_count": 430,
     "metadata": {},
     "output_type": "execute_result"
    }
   ],
   "source": [
    "p3_df['party_affiliation'] = prediction\n",
    "p3_df['party_affiliation'] = p3_df['party_affiliation'].map({0:'Democratic Party',1:'Republican Party'})\n",
    "p3_df"
   ]
  },
  {
   "cell_type": "code",
   "execution_count": 431,
   "id": "0b9fcf4f",
   "metadata": {},
   "outputs": [],
   "source": [
    "p3_df.to_csv('p3_submission.csv', index = False)"
   ]
  },
  {
   "cell_type": "markdown",
   "id": "c6b2a6cc",
   "metadata": {},
   "source": [
    "## Training and Experiments"
   ]
  },
  {
   "cell_type": "code",
   "execution_count": 99,
   "id": "569f95c7",
   "metadata": {},
   "outputs": [],
   "source": [
    "def train_model(weight_decay,lr):\n",
    "    model = LogisticRegression()\n",
    "    criterion = nn.BCELoss()\n",
    "    optimizer = optim.SGD(model.parameters(), lr = lr, weight_decay = weight_decay)\n",
    "    \n",
    "    loss_history = []\n",
    "    f1_history = []\n",
    "    running_loss = 0.0 \n",
    "    epochs = range(1)\n",
    "\n",
    "    for epoch in epochs:\n",
    "\n",
    "        for i in tqdm(range(25000)):\n",
    "            index = random.randint(0,tensor_X.shape[0] - 1)\n",
    "            X_train = tensor_X[index,:]\n",
    "            Y_train = tensor_Y[index,0].unsqueeze(0)\n",
    "\n",
    "            optimizer.zero_grad()\n",
    "            outputs = model(X_train)\n",
    "            loss = criterion(outputs, Y_train)\n",
    "            loss.backward()\n",
    "            optimizer.step()\n",
    "\n",
    "            running_loss += loss.item()\n",
    "            if i % 1000 == 999:\n",
    "                loss_history.append(running_loss)\n",
    "                running_loss = 0.0 \n",
    "\n",
    "                model.eval()\n",
    "                with torch.no_grad():\n",
    "                    Y_pred = model(X_test)\n",
    "                    f1 = f1_score(actual_arr, Y_pred.round().detach().numpy().reshape(20000,))\n",
    "                    f1_history.append(f1)\n",
    "                model.train()\n",
    "    \n",
    "    plt.subplots(figsize=(9, 3))\n",
    "    \n",
    "    plt.subplot(1, 2, 1)\n",
    "    plt.plot(range(len(loss_history)),loss_history)\n",
    "    plt.xlabel('Iteration') \n",
    "    plt.ylabel('Loss') \n",
    "    \n",
    "    plt.subplot(1, 2, 2)\n",
    "    plt.plot(range(len(f1_history)),f1_history)\n",
    "    plt.xlabel('Iteration') \n",
    "    plt.ylabel('F1 Score') \n",
    "    plt.show()"
   ]
  },
  {
   "cell_type": "markdown",
   "id": "b83022bb",
   "metadata": {},
   "source": [
    "#### 1. Comparing L2 Penalty (Weight Decay)"
   ]
  },
  {
   "cell_type": "code",
   "execution_count": 100,
   "id": "ed6236e4",
   "metadata": {},
   "outputs": [
    {
     "data": {
      "application/vnd.jupyter.widget-view+json": {
       "model_id": "96db9d1f07984153a1994e4ca1990f7c",
       "version_major": 2,
       "version_minor": 0
      },
      "text/plain": [
       "  0%|          | 0/25000 [00:00<?, ?it/s]"
      ]
     },
     "metadata": {},
     "output_type": "display_data"
    },
    {
     "data": {
      "image/png": "[encoded data removed]",
      "text/plain": [
       "<Figure size 648x216 with 2 Axes>"
      ]
     },
     "metadata": {
      "needs_background": "light"
     },
     "output_type": "display_data"
    }
   ],
   "source": [
    "train_model(weight_decay = 0, lr = 0.001)"
   ]
  },
  {
   "cell_type": "code",
   "execution_count": 103,
   "id": "afdd8d8e",
   "metadata": {},
   "outputs": [
    {
     "data": {
      "application/vnd.jupyter.widget-view+json": {
       "model_id": "7ba627adfc334498b084ddfebbeaa539",
       "version_major": 2,
       "version_minor": 0
      },
      "text/plain": [
       "  0%|          | 0/25000 [00:00<?, ?it/s]"
      ]
     },
     "metadata": {},
     "output_type": "display_data"
    },
    {
     "data": {
      "image/png": "[encoded data removed]",
      "text/plain": [
       "<Figure size 648x216 with 2 Axes>"
      ]
     },
     "metadata": {
      "needs_background": "light"
     },
     "output_type": "display_data"
    }
   ],
   "source": [
    "train_model(weight_decay = 0.001, lr = 0.001)"
   ]
  },
  {
   "cell_type": "code",
   "execution_count": 102,
   "id": "a82ada18",
   "metadata": {},
   "outputs": [
    {
     "data": {
      "application/vnd.jupyter.widget-view+json": {
       "model_id": "bd9161b2cb6b45dfb0c68440a74a9f5f",
       "version_major": 2,
       "version_minor": 0
      },
      "text/plain": [
       "  0%|          | 0/25000 [00:00<?, ?it/s]"
      ]
     },
     "metadata": {},
     "output_type": "display_data"
    },
    {
     "data": {
      "image/png": "[encoded data removed]",
      "text/plain": [
       "<Figure size 648x216 with 2 Axes>"
      ]
     },
     "metadata": {
      "needs_background": "light"
     },
     "output_type": "display_data"
    }
   ],
   "source": [
    "train_model(weight_decay = 0.1, lr = 0.001)"
   ]
  },
  {
   "cell_type": "markdown",
   "id": "d5e88414",
   "metadata": {},
   "source": [
    "#### 2. Comparing Learning Rate"
   ]
  },
  {
   "cell_type": "code",
   "execution_count": 29,
   "id": "7acd6702",
   "metadata": {},
   "outputs": [
    {
     "data": {
      "application/vnd.jupyter.widget-view+json": {
       "model_id": "8e74d7322baa41e2bcbbe14217991621",
       "version_major": 2,
       "version_minor": 0
      },
      "text/plain": [
       "  0%|          | 0/25000 [00:00<?, ?it/s]"
      ]
     },
     "metadata": {},
     "output_type": "display_data"
    },
    {
     "data": {
      "image/png": "[encoded data removed]",
      "text/plain": [
       "<Figure size 648x216 with 2 Axes>"
      ]
     },
     "metadata": {
      "needs_background": "light"
     },
     "output_type": "display_data"
    }
   ],
   "source": [
    "train_model(weight_decay = 0, lr = 0.1)"
   ]
  },
  {
   "cell_type": "code",
   "execution_count": 30,
   "id": "7b040d38",
   "metadata": {},
   "outputs": [
    {
     "data": {
      "application/vnd.jupyter.widget-view+json": {
       "model_id": "6a6d5251abb24019a6c83919e7632d7e",
       "version_major": 2,
       "version_minor": 0
      },
      "text/plain": [
       "  0%|          | 0/25000 [00:00<?, ?it/s]"
      ]
     },
     "metadata": {},
     "output_type": "display_data"
    },
    {
     "data": {
      "image/png": "[encoded data removed]",
      "text/plain": [
       "<Figure size 648x216 with 2 Axes>"
      ]
     },
     "metadata": {
      "needs_background": "light"
     },
     "output_type": "display_data"
    }
   ],
   "source": [
    "train_model(weight_decay = 0, lr = 0.001)"
   ]
  },
  {
   "cell_type": "code",
   "execution_count": 35,
   "id": "870f1269",
   "metadata": {},
   "outputs": [
    {
     "data": {
      "application/vnd.jupyter.widget-view+json": {
       "model_id": "5ac3018e456542fe9c3a639ff6f6112e",
       "version_major": 2,
       "version_minor": 0
      },
      "text/plain": [
       "  0%|          | 0/25000 [00:00<?, ?it/s]"
      ]
     },
     "metadata": {},
     "output_type": "display_data"
    },
    {
     "data": {
      "image/png": "[encoded data removed]",
      "text/plain": [
       "<Figure size 648x216 with 2 Axes>"
      ]
     },
     "metadata": {
      "needs_background": "light"
     },
     "output_type": "display_data"
    }
   ],
   "source": [
    "train_model(weight_decay = 0, lr = 0.00001)"
   ]
  },
  {
   "cell_type": "markdown",
   "id": "02c80fcd",
   "metadata": {},
   "source": [
    "#### 3. Comparing Optimizers"
   ]
  },
  {
   "cell_type": "code",
   "execution_count": 105,
   "id": "4fbe9cb2",
   "metadata": {},
   "outputs": [],
   "source": [
    "def train_model_2(model, optimizer):\n",
    "    \n",
    "    loss_history = []\n",
    "    f1_history = []\n",
    "    running_loss = 0.0 \n",
    "    epochs = range(1)\n",
    "\n",
    "    for epoch in epochs:\n",
    "\n",
    "        for i in tqdm(range(25000)):\n",
    "            index = random.randint(0,tensor_X.shape[0] - 1)\n",
    "            X_train = tensor_X[index,:]\n",
    "            Y_train = tensor_Y[index,0].unsqueeze(0)\n",
    "\n",
    "            optimizer.zero_grad()\n",
    "            outputs = model(X_train)\n",
    "            loss = criterion(outputs, Y_train)\n",
    "            loss.backward()\n",
    "            optimizer.step()\n",
    "\n",
    "            running_loss += loss.item()\n",
    "            if i % 1000 == 999:\n",
    "                loss_history.append(running_loss)\n",
    "                running_loss = 0.0 \n",
    "\n",
    "                model.eval()\n",
    "                with torch.no_grad():\n",
    "                    Y_pred = model(X_test)\n",
    "                    f1 = f1_score(actual_arr, Y_pred.round().detach().numpy().reshape(20000,))\n",
    "                    f1_history.append(f1)\n",
    "                model.train()\n",
    "\n",
    "    plt.subplots(figsize=(9, 3))\n",
    "    \n",
    "    plt.subplot(1, 2, 1)\n",
    "    plt.plot(range(len(loss_history)),loss_history)\n",
    "    plt.xlabel('Iteration') \n",
    "    plt.ylabel('Loss') \n",
    "    \n",
    "    plt.subplot(1, 2, 2)\n",
    "    plt.plot(range(len(f1_history)),f1_history)\n",
    "    plt.xlabel('Iteration') \n",
    "    plt.ylabel('F1 Score') \n",
    "    plt.show()"
   ]
  },
  {
   "cell_type": "code",
   "execution_count": 109,
   "id": "2c722dab",
   "metadata": {},
   "outputs": [
    {
     "data": {
      "application/vnd.jupyter.widget-view+json": {
       "model_id": "0a56eee20f3d4d17b1e607ba719ae176",
       "version_major": 2,
       "version_minor": 0
      },
      "text/plain": [
       "  0%|          | 0/25000 [00:00<?, ?it/s]"
      ]
     },
     "metadata": {},
     "output_type": "display_data"
    },
    {
     "data": {
      "image/png": "[encoded data removed]",
      "text/plain": [
       "<Figure size 648x216 with 2 Axes>"
      ]
     },
     "metadata": {
      "needs_background": "light"
     },
     "output_type": "display_data"
    }
   ],
   "source": [
    "model_2 = LogisticRegression()\n",
    "optimizer = optim.SGD(model_2.parameters(), lr = 0.001)\n",
    "train_model_2(model_2, optimizer)"
   ]
  },
  {
   "cell_type": "code",
   "execution_count": 110,
   "id": "1c56e2c4",
   "metadata": {},
   "outputs": [
    {
     "data": {
      "application/vnd.jupyter.widget-view+json": {
       "model_id": "a73e87cad1d146e3bd4101197cb2ad64",
       "version_major": 2,
       "version_minor": 0
      },
      "text/plain": [
       "  0%|          | 0/25000 [00:00<?, ?it/s]"
      ]
     },
     "metadata": {},
     "output_type": "display_data"
    },
    {
     "data": {
      "image/png": "[encoded data removed]",
      "text/plain": [
       "<Figure size 648x216 with 2 Axes>"
      ]
     },
     "metadata": {
      "needs_background": "light"
     },
     "output_type": "display_data"
    }
   ],
   "source": [
    "model_2 = LogisticRegression()\n",
    "optimizer = optim.RMSprop(model_2.parameters(), lr = 0.001)\n",
    "train_model_2(model_2, optimizer)"
   ]
  },
  {
   "cell_type": "code",
   "execution_count": 111,
   "id": "38049949",
   "metadata": {},
   "outputs": [
    {
     "data": {
      "application/vnd.jupyter.widget-view+json": {
       "model_id": "e99516c0438e4f809d20e92a2cb60580",
       "version_major": 2,
       "version_minor": 0
      },
      "text/plain": [
       "  0%|          | 0/25000 [00:00<?, ?it/s]"
      ]
     },
     "metadata": {},
     "output_type": "display_data"
    },
    {
     "data": {
      "image/png": "[encoded data removed]",
      "text/plain": [
       "<Figure size 648x216 with 2 Axes>"
      ]
     },
     "metadata": {
      "needs_background": "light"
     },
     "output_type": "display_data"
    }
   ],
   "source": [
    "model_2 = LogisticRegression()\n",
    "optimizer = optim.Adam(model_2.parameters(), lr = 0.001)\n",
    "train_model_2(model_2, optimizer)"
   ]
  },
  {
   "cell_type": "markdown",
   "id": "e06ea672",
   "metadata": {},
   "source": [
    "#### 4. Comparing Tokenizations"
   ]
  },
  {
   "cell_type": "code",
   "execution_count": 6,
   "id": "b23df0e1",
   "metadata": {},
   "outputs": [],
   "source": [
    "token_dict = Counter() # Counting all words for all documents and putting into a dictionary\n",
    "for doc in doc_list:\n",
    "    token_dict.update(Counter(tokenize(doc.lower())))"
   ]
  },
  {
   "cell_type": "code",
   "execution_count": 7,
   "id": "f1475439",
   "metadata": {},
   "outputs": [
    {
     "data": {
      "application/vnd.jupyter.widget-view+json": {
       "model_id": "0b6dc8bce4b544b4884ebf848d158203",
       "version_major": 2,
       "version_minor": 0
      },
      "text/plain": [
       "  0%|          | 0/59999 [00:00<?, ?it/s]"
      ]
     },
     "metadata": {},
     "output_type": "display_data"
    }
   ],
   "source": [
    "uniq_words = set() # A set of unique words for all documents\n",
    "for doc in tqdm(doc_list):\n",
    "    uniq_words.update(tokenize(doc.lower()))\n",
    "    \n",
    "words_index_dict = {}\n",
    "for i, word in list(enumerate(sorted(uniq_words))):\n",
    "    words_index_dict[word] = i"
   ]
  },
  {
   "cell_type": "code",
   "execution_count": 8,
   "id": "8eaac941",
   "metadata": {},
   "outputs": [],
   "source": [
    "def construct_lame_term_doc(docs):    \n",
    "    row, col, val = [], [], []\n",
    "    for index, text in tqdm(enumerate(docs)):\n",
    "        text = text.lower()\n",
    "        count_dict = Counter()\n",
    "        words_list = tokenize(text)\n",
    "        count_dict.update(Counter(words_list))\n",
    "        for word, count in count_dict.items():\n",
    "            try:\n",
    "                col.append(words_index_dict[word])\n",
    "            except:\n",
    "                continue\n",
    "            row.append(index)\n",
    "            val.append(count)\n",
    "\n",
    "    matrix = (csr_matrix((val, (row, col)),shape = (len(docs),len(words_index_dict)))).toarray()\n",
    "    matrix = np.append(matrix, np.ones((len(docs),1)), axis = 1)\n",
    "    return matrix"
   ]
  },
  {
   "cell_type": "code",
   "execution_count": 11,
   "id": "eee39e53",
   "metadata": {},
   "outputs": [
    {
     "data": {
      "application/vnd.jupyter.widget-view+json": {
       "model_id": "a8d71b59e7364a50b44f314471225d08",
       "version_major": 2,
       "version_minor": 0
      },
      "text/plain": [
       "0it [00:00, ?it/s]"
      ]
     },
     "metadata": {},
     "output_type": "display_data"
    }
   ],
   "source": [
    "lame_term_doc = construct_lame_term_doc(doc_list[:10000])"
   ]
  },
  {
   "cell_type": "code",
   "execution_count": 51,
   "id": "4ddc0e95",
   "metadata": {},
   "outputs": [],
   "source": [
    "tensor_X = to_sparse_tensor(lame_term_doc).to_dense()"
   ]
  },
  {
   "cell_type": "code",
   "execution_count": 52,
   "id": "40a804c0",
   "metadata": {},
   "outputs": [],
   "source": [
    "tensor_Y = tensor_Y[:10000]"
   ]
  },
  {
   "cell_type": "code",
   "execution_count": 113,
   "id": "ca343eb0",
   "metadata": {},
   "outputs": [],
   "source": [
    "model = LogisticRegression()\n",
    "criterion = nn.BCELoss()\n",
    "optimizer = optim.SGD(model.parameters(), lr = 0.001)"
   ]
  },
  {
   "cell_type": "code",
   "execution_count": null,
   "id": "02fe62b4",
   "metadata": {},
   "outputs": [],
   "source": [
    "dev = pd.read_csv('dev.csv')\n",
    "dev_doc_list = dev['email_text'].to_list()\n",
    "dev_matrix = construct_lame_term_doc(dev_doc_list[:10000])"
   ]
  },
  {
   "cell_type": "code",
   "execution_count": 58,
   "id": "5f028787",
   "metadata": {},
   "outputs": [],
   "source": [
    "X_test = to_sparse_tensor(dev_matrix).to_dense()"
   ]
  },
  {
   "cell_type": "code",
   "execution_count": 61,
   "id": "b250a776",
   "metadata": {},
   "outputs": [],
   "source": [
    "actual_arr = actual_arr[:10000]"
   ]
  },
  {
   "cell_type": "code",
   "execution_count": 73,
   "id": "e9a61c09",
   "metadata": {},
   "outputs": [
    {
     "data": {
      "application/vnd.jupyter.widget-view+json": {
       "model_id": "1cc94b95aaba4d82bd71519912a032c5",
       "version_major": 2,
       "version_minor": 0
      },
      "text/plain": [
       "  0%|          | 0/1 [00:00<?, ?it/s]"
      ]
     },
     "metadata": {},
     "output_type": "display_data"
    },
    {
     "name": "stdout",
     "output_type": "stream",
     "text": [
      "[1, 1000] loss: 460.36901\n",
      "          f1 score: 0.6176836861768369\n",
      "[1, 2000] loss: 309.74031\n",
      "          f1 score: 0.6708229426433915\n",
      "[1, 3000] loss: 290.53265\n",
      "          f1 score: 0.48266908996494867\n",
      "[1, 4000] loss: 299.10066\n",
      "          f1 score: 0.7453381575285276\n",
      "[1, 5000] loss: 239.63379\n",
      "          f1 score: 0.7429920330480968\n",
      "[1, 6000] loss: 308.05284\n",
      "          f1 score: 0.5116634799235181\n",
      "[1, 7000] loss: 234.98454\n",
      "          f1 score: 0.8016830294530155\n",
      "[1, 8000] loss: 200.19338\n",
      "          f1 score: 0.7853557720696781\n",
      "[1, 9000] loss: 200.55800\n",
      "          f1 score: 0.7909407665505226\n",
      "[1, 10000] loss: 298.54822\n",
      "          f1 score: 0.821463897131553\n"
     ]
    },
    {
     "data": {
      "image/png": "[encoded data removed]",
      "text/plain": [
       "<Figure size 648x216 with 2 Axes>"
      ]
     },
     "metadata": {
      "needs_background": "light"
     },
     "output_type": "display_data"
    }
   ],
   "source": [
    "loss_history = []\n",
    "f1_history = []\n",
    "running_loss = 0.0 \n",
    "epochs = range(1)\n",
    "\n",
    "for epoch in tqdm(epochs):\n",
    "\n",
    "    for i in range(10000):\n",
    "        index = random.randint(0,tensor_X.shape[0] - 1)\n",
    "        X_train = tensor_X[index,:]\n",
    "        Y_train = tensor_Y[index,0].unsqueeze(0)\n",
    "\n",
    "        optimizer.zero_grad()\n",
    "        outputs = model(X_train)\n",
    "        loss = criterion(outputs, Y_train)\n",
    "        loss.backward()\n",
    "        optimizer.step()\n",
    "\n",
    "        running_loss += loss.item()\n",
    "        if i % 1000 == 999:\n",
    "            loss_history.append(running_loss)\n",
    "            print(f'[{epoch + 1}, {(epoch + 1)*(i+1)}] loss: {running_loss:.5f}')\n",
    "            running_loss = 0.0 \n",
    "\n",
    "            model.eval()\n",
    "            with torch.no_grad():\n",
    "                Y_pred = model(X_test)\n",
    "                f1 = f1_score(actual_arr, Y_pred.round().detach().numpy().reshape(10000,))\n",
    "                print(f'          f1 score: {f1}')\n",
    "                f1_history.append(f1)\n",
    "            model.train()\n",
    "\n",
    "plt.subplots(figsize=(9, 3))\n",
    "    \n",
    "plt.subplot(1, 2, 1)\n",
    "plt.plot(range(len(loss_history)),loss_history)\n",
    "plt.xlabel('Iteration') \n",
    "plt.ylabel('Loss') \n",
    "    \n",
    "plt.subplot(1, 2, 2)\n",
    "plt.plot(range(len(f1_history)),f1_history)\n",
    "plt.xlabel('Iteration') \n",
    "plt.ylabel('F1 Score') \n",
    "plt.show()"
   ]
  },
  {
   "cell_type": "code",
   "execution_count": 114,
   "id": "5b328ea3",
   "metadata": {},
   "outputs": [
    {
     "data": {
      "application/vnd.jupyter.widget-view+json": {
       "model_id": "b256a74e835d4b4997419c62318927d6",
       "version_major": 2,
       "version_minor": 0
      },
      "text/plain": [
       "  0%|          | 0/1 [00:00<?, ?it/s]"
      ]
     },
     "metadata": {},
     "output_type": "display_data"
    },
    {
     "name": "stdout",
     "output_type": "stream",
     "text": [
      "[1, 1000] loss: 393.33230\n",
      "          f1 score: 0.07465618860510807\n",
      "[1, 2000] loss: 309.38132\n",
      "          f1 score: 0.5404619021640299\n",
      "[1, 3000] loss: 276.07131\n",
      "          f1 score: 0.46189826544533225\n",
      "[1, 4000] loss: 246.55162\n",
      "          f1 score: 0.7833194790800775\n",
      "[1, 5000] loss: 220.45210\n",
      "          f1 score: 0.7543461829176116\n",
      "[1, 6000] loss: 210.20751\n",
      "          f1 score: 0.7821164174771374\n",
      "[1, 7000] loss: 199.45041\n",
      "          f1 score: 0.8057065217391305\n",
      "[1, 8000] loss: 187.64080\n",
      "          f1 score: 0.7589339794064204\n",
      "[1, 9000] loss: 212.93140\n",
      "          f1 score: 0.7955801104972375\n",
      "[1, 10000] loss: 174.09488\n",
      "          f1 score: 0.7719563900666263\n"
     ]
    },
    {
     "data": {
      "image/png": "[encoded data removed]",
      "text/plain": [
       "<Figure size 648x216 with 2 Axes>"
      ]
     },
     "metadata": {
      "needs_background": "light"
     },
     "output_type": "display_data"
    }
   ],
   "source": [
    "loss_history = []\n",
    "f1_history = []\n",
    "running_loss = 0.0 \n",
    "epochs = range(1)\n",
    "\n",
    "for epoch in tqdm(epochs):\n",
    "\n",
    "    for i in range(10000):\n",
    "        index = random.randint(0,tensor_X.shape[0] - 1)\n",
    "        X_train = tensor_X[index,:]\n",
    "        Y_train = tensor_Y[index,0].unsqueeze(0)\n",
    "\n",
    "        optimizer.zero_grad()\n",
    "        outputs = model(X_train)\n",
    "        loss = criterion(outputs, Y_train)\n",
    "        loss.backward()\n",
    "        optimizer.step()\n",
    "\n",
    "        running_loss += loss.item()\n",
    "        if i % 1000 == 999:\n",
    "            loss_history.append(running_loss)\n",
    "            print(f'[{epoch + 1}, {(epoch + 1)*(i+1)}] loss: {running_loss:.5f}')\n",
    "            running_loss = 0.0 \n",
    "\n",
    "            model.eval()\n",
    "            with torch.no_grad():\n",
    "                Y_pred = model(X_test)\n",
    "                f1 = f1_score(actual_arr, Y_pred.round().detach().numpy().reshape(20000,))\n",
    "                print(f'          f1 score: {f1}')\n",
    "                f1_history.append(f1)\n",
    "            model.train()\n",
    "\n",
    "plt.subplots(figsize=(9, 3))\n",
    "    \n",
    "plt.subplot(1, 2, 1)\n",
    "plt.plot(range(len(loss_history)),loss_history)\n",
    "plt.xlabel('Iteration') \n",
    "plt.ylabel('Loss') \n",
    "    \n",
    "plt.subplot(1, 2, 2)\n",
    "plt.plot(range(len(f1_history)),f1_history)\n",
    "plt.xlabel('Iteration') \n",
    "plt.ylabel('F1 Score') \n",
    "plt.show()"
   ]
  },
  {
   "cell_type": "code",
   "execution_count": null,
   "id": "7a31c07d",
   "metadata": {},
   "outputs": [],
   "source": []
  },
  {
   "cell_type": "code",
   "execution_count": null,
   "id": "79bad92a",
   "metadata": {},
   "outputs": [],
   "source": []
  }
 ],
 "metadata": {
  "kernelspec": {
   "display_name": "Python 3 (ipykernel)",
   "language": "python",
   "name": "python3"
  },
  "language_info": {
   "codemirror_mode": {
    "name": "ipython",
    "version": 3
   },
   "file_extension": ".py",
   "mimetype": "text/x-python",
   "name": "python",
   "nbconvert_exporter": "python",
   "pygments_lexer": "ipython3",
   "version": "3.8.8"
  }
 },
 "nbformat": 4,
 "nbformat_minor": 5
}
